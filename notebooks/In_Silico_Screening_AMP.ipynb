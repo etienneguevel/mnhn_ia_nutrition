{
 "cells": [
  {
   "cell_type": "markdown",
   "id": "f6d975e5",
   "metadata": {},
   "source": [
    "# Discovering Antibacterial Peptides in Bacterial And Fungal Genomes using ANTISMASH\n",
    "Input files are \"contigs.fasta\" OR \"scaffolds.fasta\" files generated using an Assembly software.  \n",
    "For the sake of this practical workshop we will be using ANTISMASH software (v.7).  \n",
    "Complete guide for Installing and using ANTISMASH is available in https://docs.antismash.secondarymetabolites.org/install/  \n",
    "It is possible to launch \"ANTISMASH\" online using their web interface https://antismash.secondarymetabolites.org/#!/start  \n",
    "  \n",
    "\n",
    "## Installing ANTISMASH\n",
    "If minconda is not installed in your environment, follow the link to do so https://www.anaconda.com/docs/getting-started/miniconda/install#macos-linux-installation:how-do-i-verify-my-installers-integrity  \n",
    "As miniconda is installed, i can recreate a virtual environment with all the required dependencies for ANTIISMASH to work in using a \"environment.yaml\" file that i have previously created using $conda env export function in another machine where everything is set.  \n"
   ]
  },
  {
   "cell_type": "code",
   "execution_count": null,
   "id": "b979638c",
   "metadata": {},
   "outputs": [
    {
     "name": "stdout",
     "output_type": "stream",
     "text": [
      "antiSMASH 8.0.1\n"
     ]
    }
   ],
   "source": [
    "%%bash\n",
    "\n",
    "#Installing miniconda *if not already installed*\n",
    "wget https://repo.anaconda.com/miniconda/Miniconda3-latest-Linux-x86_64.sh #Download latest installer\n",
    "bash ~/Miniconda3-latest-Linux-x86_64.sh    #Install\n",
    "\n",
    "\n",
    "#COMMAND FOR CREATING THE .yml file\n",
    "#conda env export --name antismash_env --no-builds > environment.yml\n",
    "conda env create -f environment.yml\n",
    "\n",
    "# If .yml file is not available, install launching the following lines\n",
    "conda create -n antismash antismash\n",
    "conda activate antismash\n",
    "download-antismash-databases\n",
    "conda deactivate\n",
    "\n",
    "#Activate environment And download databases\n",
    "conda activate antismash6 # antismash6 is the name of the environement I just created\n",
    "download-antismash-databases # download antismash databases\n"
   ]
  },
  {
   "cell_type": "markdown",
   "id": "aa6eab25",
   "metadata": {},
   "source": [
    "## Getting My Workbench Ready And launching ANTISMASH\n",
    "First we will create a folder in which the output files of each sample will be gathered.  \n",
    "We will then launch antismash with full options while multithreading to shorten the execution time.  "
   ]
  },
  {
   "cell_type": "code",
   "execution_count": null,
   "id": "d40eeb6d",
   "metadata": {},
   "outputs": [],
   "source": [
    "%%bash\n",
    "\n",
    "output_00=\"/home/ramzi/Desktop/JOB\" #Folder where other output folders are located\n",
    "\n",
    "date \n",
    "echo -e \"your current location is \\\"$(pwd)\\\"\"\n",
    "echo -e \"your output folder is $output_00\"\n",
    "mkdir -p \"$output_00/ANTISMASH__test\"\n",
    "\n",
    "#Show ANTISMASH version\n",
    "antismash --version\n",
    "\n",
    "# Read sample names into an array\n",
    "mapfile -t sample_names < \"$output_00/samples.txt\"\n",
    "\ttotal_samples=${#sample_names[@]}\n",
    "\n",
    "\n",
    "#        for ((i=0; i<$total_samples; i++)); do                  #       <-------->  Uncomment this line and comment the line under it to launch for all the samples \n",
    "        for ((i=0; i<1; i++)); do                               #       <-------->  Test with one sample\n",
    "\t\tOUTPUT_ANTI=\"$output_00/ANTISMASH__test/${sample_names[$i]}\"\n",
    "\t\tmkdir -p \"$OUTPUT_ANTI\"\n",
    "\t\tantismash ~/Desktop/JOB/assembly_spades/${sample_names[$i]}/contigs.fasta --output-dir \"$OUTPUT_ANTI\"  --genefinding-gff3 ~/Desktop/JOB/Prokka_annotation/${sample_names[$i]}/${sample_names[$i]}.gff --output-basename ${sample_names[$i]} --taxon bacteria --cpus 8\n",
    "\t\tsleep 20 \n",
    "done"
   ]
  },
  {
   "cell_type": "markdown",
   "id": "ca84f794",
   "metadata": {},
   "source": [
    "Different output files are generated, among which there is an \"index.html\" file. Double-clicking on it opens a webpage on which we can visualize an pverview of the results.  The overview shows the contigs or regions where a secondary metabolite has been identified.  \n",
    "Selecting a region shows more details about it, like its protein family, Gene names, Coding sequences features etc.  \n",
    "We can check visually which contig contains regions for a certain metabolite of interest (for example lassopeptide) in the .html file.  \n",
    "OR we can use commandline to search for which contig has region containing a lassopeptide sequence as following :  "
   ]
  },
  {
   "cell_type": "code",
   "execution_count": 1,
   "id": "fce57772",
   "metadata": {},
   "outputs": [],
   "source": [
    "%%bash\n",
    "\n",
    "for folder in $(find /home/ramzi/Desktop/JOB/ANTISMASH/ -mindepth 1 -maxdepth 1 -type d);\n",
    "do name=$(basename ${folder})\n",
    "output=$(awk '/lasso/ {found=1; for(i=NR-1000;i<NR;i++) if(buffer[i] ~ /ACCESSION/) print buffer[i]} /ACCESSION/ && found {exit} {buffer[NR]=$0}' ~/Desktop/JOB/ANTISMASH/${name}/${name}.gbk | awk -F \" \" '{print $2}')\n",
    "  if [[ -n $output ]]; then\n",
    "    echo -e \"$output\\t$name\" >> ~/tmp.tab\n",
    "  fi\n",
    "done"
   ]
  },
  {
   "cell_type": "markdown",
   "id": "194d3188",
   "metadata": {},
   "source": [
    "# Comparing Biosynthetic Gene clusters using Clinker\n",
    "Now after getting all the contigs names that contains lassopeptide regions, ill just sort the file so I get an output with the contig name in the 1st field and the sample name in the 2nd."
   ]
  },
  {
   "cell_type": "code",
   "execution_count": null,
   "id": "ba6e777d",
   "metadata": {},
   "outputs": [],
   "source": [
    "%%bash\n",
    "\n",
    "awk 'NF >= 2 && $2 != \"\"' ~/tmp.tab |  sort -u > ~/tmp2.tab # lines which second field has a string in it\n",
    "rm ~/tmp.tab && mv ~/tmp2.tab ~/tmp.tab\n",
    "\n",
    "#showing the file content  with a header\n",
    "echo -e \"Contigs\\tSamples\"\n",
    "while read -r contigs samples; do\n",
    "  echo -e \"$contigs\\t$samples\"\n",
    "done < ~/tmp.tab \n",
    "\n",
    "mkdir links_clinker\n",
    "while read -r contig sample; do\n",
    "  echo \"test\"\n",
    "  #ln -s \"/home/ramzi/Desktop/JOB/ANTISMASH/${sample}/${contig}*.gbk\" links_clinker/\"${sample}_${contig}.gbk\"\n",
    "done < ~/tmp.tab \n",
    "\n",
    "#Launch clinker\n",
    "clinker ~/Desktop/links_clinker/*.gbk"
   ]
  },
  {
   "cell_type": "markdown",
   "id": "39f9af96",
   "metadata": {},
   "source": [
    "After launching clinker (which was installed in a separate virtual envvironment), biosynthetic clusters comparison will appear in an interactive webpage with relevant details."
   ]
  },
  {
   "cell_type": "markdown",
   "id": "13173644",
   "metadata": {},
   "source": [
    "# Using Abricate to set A CUSTOM database and Searching for genes of interest :\n",
    "Abricate might be usefull for serching for a custom set of genes through our genomes.  \n",
    "Complete Guide of Abricate usage and installation is available at https://github.com/tseemann/abricate  \n",
    "As for ANTISMASH and CLINKER, we will bes using a conda virtual environment to ensure no package integrity for each program to function.\n",
    "Here is an overview of it"
   ]
  },
  {
   "cell_type": "code",
   "execution_count": null,
   "id": "93eff766",
   "metadata": {},
   "outputs": [],
   "source": [
    "%%bash\n",
    "# Activate conda\n",
    "conda activate\n",
    "\n",
    "# Update conda if necessary\n",
    "conda update -n base -c conda-forge conda\n",
    "\n",
    "# Activate conda environment \n",
    "conda activate abricate\n",
    "\n",
    "# Update abricate if necessary\n",
    "conda update abricate\n",
    "\n",
    "# Check if Everythign is installed\n",
    "abricate --check\n",
    "\n",
    "# Show available databases\n",
    "abricate --list\n",
    "\n",
    "# Set up my own Databse     ------->    read How to in the github page \"https://github.com/tseemann/abricate\"\n",
    "\n",
    "# Loop through the genomes \n",
    "genomes=$(find My_FTP/*  -type d -name \"GCA*\" | sed 's/My_FTP\\///g' ) # work on All genomes \n",
    "for name in ${genomes} ;\n",
    "do\n",
    "fasta_file=\"My_FTP/${name}/${name}_contigs.fa\"\n",
    "\n",
    "#abricate --db vfdb  $fasta_file > Abricate_Output/abricate_vfdb_${name}.tab\n",
    "#abricate --db resfinder  $fasta_file > Abricate_Output/abricate_resfinder_${name}.tab\n",
    "#abricate --db card  $fasta_file > Abricate_Output/abricate_card_${name}.tab\n",
    "abricate --db Micol  $fasta_file > Abricate_Output/abricate_Micol_${name}.tab\n",
    "\n",
    "\n",
    "done\n",
    "\n",
    "\n",
    "# NOW LAUNCH THE SAME FOR MY 39 E.coli\n",
    "while IFS=, read -r name ; do\n",
    "echo \"Treating Sample $name\"\n",
    "fasta_file=\"/media/ramzi/One Touch/JOB/temporary/anvio_39/${name}/E__coli_${name}_contigs.fa\"\n",
    "\n",
    "#grep -c \"^>\" \"$fasta_file\"\n",
    "\n",
    "\n",
    "#abricate --db vfdb  \"$fasta_file\" >> Abricate_Output/abricate_vfdb_${name}.tab\n",
    "#abricate --db resfinder  \"$fasta_file\" >> Abricate_Output/abricate_resfinder_${name}.tab\n",
    "#abricate --db card  \"$fasta_file\" >> Abricate_Output/abricate_card_${name}.tab\n",
    "abricate --db Micol  \"$fasta_file\" >> Abricate_Output/abricate_Micol_${name}.tab\n",
    "\n",
    "done <  \"/media/ramzi/One Touch/JOB/samples.txt\"\n",
    "\n",
    "# Summarize in a presence absence table VFDB GCA\n",
    "abricate --summary Abricate_Output/abricate_vfdb_GCA.tab > Abricate_vfdb/summary_vfdb_GCA.tab\n",
    "\n",
    "# Summarize in a presence absence table resfinder GCA\n",
    "abricate --summary Abricate_Output/abricate_resfinder_GCA.tab > Abricate_vfdb/summary_resfinder_GCA.tab"
   ]
  },
  {
   "cell_type": "markdown",
   "id": "216cd66a",
   "metadata": {},
   "source": [
    "At the End,  summary Table should be containing Blast identity percentage os each sample to genes of the databases used previously. This table can be used later to draw relevant heatmaps AND calculate statistics"
   ]
  }
 ],
 "metadata": {
  "kernelspec": {
   "display_name": "Python 3",
   "language": "python",
   "name": "python3"
  },
  "language_info": {
   "codemirror_mode": {
    "name": "ipython",
    "version": 3
   },
   "file_extension": ".py",
   "mimetype": "text/x-python",
   "name": "python",
   "nbconvert_exporter": "python",
   "pygments_lexer": "ipython3",
   "version": "3.10.6"
  }
 },
 "nbformat": 4,
 "nbformat_minor": 5
}
