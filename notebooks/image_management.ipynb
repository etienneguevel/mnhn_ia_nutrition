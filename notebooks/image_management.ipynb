{
 "cells": [
  {
   "cell_type": "code",
   "execution_count": 4,
   "id": "1372d5bf-22f1-41e7-aa91-4ca6a83a4fcf",
   "metadata": {},
   "outputs": [],
   "source": [
    "import os\n",
    "from pathlib import Path"
   ]
  },
  {
   "cell_type": "code",
   "execution_count": 5,
   "id": "c4c81e10-4e66-42bc-882c-681f495b3a84",
   "metadata": {},
   "outputs": [
    {
     "data": {
      "text/plain": [
       "PosixPath('/home/etienneguevel/Documents/SCAI/mnhn/mnhn_ia_nutrition')"
      ]
     },
     "execution_count": 5,
     "metadata": {},
     "output_type": "execute_result"
    }
   ],
   "source": [
    "HERE = Path(os.getcwd())\n",
    "HERE.parent"
   ]
  },
  {
   "cell_type": "code",
   "execution_count": 21,
   "id": "bd30c78b-6d7d-4e9a-8f64-0846c0703bcf",
   "metadata": {},
   "outputs": [],
   "source": [
    "files = [\n",
    "    (\n",
    "        fold,\n",
    "        f,\n",
    "        f.replace(\" \", \"_\").replace(\"(\", \"\").replace(\")\", \"\")\n",
    "    )\n",
    "    for fold, _, files in os.walk(HERE.parent.parent / \"transfer_raw_data\")\n",
    "    for f in files if f.endswith(\"BMP\")\n",
    "]"
   ]
  },
  {
   "cell_type": "code",
   "execution_count": 22,
   "id": "7f76ac1e-b1fa-4b0f-8d1d-b8ae985e6e6f",
   "metadata": {},
   "outputs": [],
   "source": [
    "import shutil\n",
    "\n",
    "for folder, old_name, new_name in files:\n",
    "    shutil.copy(os.path.join(folder, old_name), os.path.join(os.getcwd(), \"images\", new_name))"
   ]
  }
 ],
 "metadata": {
  "kernelspec": {
   "display_name": "Python 3 (ipykernel)",
   "language": "python",
   "name": "python3"
  },
  "language_info": {
   "codemirror_mode": {
    "name": "ipython",
    "version": 3
   },
   "file_extension": ".py",
   "mimetype": "text/x-python",
   "name": "python",
   "nbconvert_exporter": "python",
   "pygments_lexer": "ipython3",
   "version": "3.11.12"
  }
 },
 "nbformat": 4,
 "nbformat_minor": 5
}
