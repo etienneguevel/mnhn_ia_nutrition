{
 "cells": [
  {
   "cell_type": "markdown",
   "id": "dc78d5ab",
   "metadata": {
    "vscode": {
     "languageId": "plaintext"
    }
   },
   "source": [
    "<a target=\"_blank\" href=\"https://colab.research.google.com/github/etienneguevel/mnhn_ia_nutrition/blob/master/notebooks/part_1_antismash.ipynb\">\n",
    "  <img src=\"https://colab.research.google.com/assets/colab-badge.svg\" alt=\"Open In Colab\"/>\n",
    "</a>"
   ]
  },
  {
   "cell_type": "markdown",
   "id": "eb2640ef",
   "metadata": {},
   "source": [
    "## Environment Set-up"
   ]
  },
  {
   "cell_type": "markdown",
   "id": "cbb9306c",
   "metadata": {},
   "source": [
    "If running locally using jupyter, first intall the necessary libraries in your environment using the installation instructions in the repository.\n",
    "\n",
    "If running from Google Colab, set `using_colab=True` below and run the cell.\n",
    "In Colab, be sure to select 'GPU' under 'Resources'->'Modify the type of execution'."
   ]
  },
  {
   "cell_type": "code",
   "execution_count": null,
   "id": "cfc9b422",
   "metadata": {},
   "outputs": [],
   "source": [
    "using_colab = False"
   ]
  },
  {
   "cell_type": "code",
   "execution_count": null,
   "id": "8bd79c20",
   "metadata": {},
   "outputs": [],
   "source": [
    "if using_colab:\n",
    "    !apt-get install hmmer2 hmmer diamond-aligner fasttree prodigal ncbi-blast+\n",
    "    !wget https://dl.secondarymetabolites.org/releases/8.0.1/antismash-8.0.1.tar.gz\n",
    "    !tar -xzf antismash-8.0.1.tar.gz\n",
    "    !pip install ./antismash-8.0.1\n",
    "    !download-antismash-databases\n",
    "    !antismash --prepare-data"
   ]
  },
  {
   "cell_type": "code",
   "execution_count": null,
   "id": "6c776a34",
   "metadata": {},
   "outputs": [],
   "source": [
    "!antismash genomes/958p_assembly_unicycler.fasta --genefinding-tool prodigal"
   ]
  }
 ],
 "metadata": {
  "kernelspec": {
   "display_name": "mnhn-ia-nutrition",
   "language": "python",
   "name": "python3"
  },
  "language_info": {
   "codemirror_mode": {
    "name": "ipython",
    "version": 3
   },
   "file_extension": ".py",
   "mimetype": "text/x-python",
   "name": "python",
   "nbconvert_exporter": "python",
   "pygments_lexer": "ipython3",
   "version": "3.11.12"
  }
 },
 "nbformat": 4,
 "nbformat_minor": 5
}
